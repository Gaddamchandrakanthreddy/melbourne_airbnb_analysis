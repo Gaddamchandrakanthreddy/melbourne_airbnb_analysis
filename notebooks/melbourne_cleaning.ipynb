{
  "nbformat": 4,
  "nbformat_minor": 0,
  "metadata": {
    "colab": {
      "provenance": [],
      "authorship_tag": "ABX9TyPOJuN2d6YszTwX/50UhUcJ",
      "include_colab_link": true
    },
    "kernelspec": {
      "name": "python3",
      "display_name": "Python 3"
    },
    "language_info": {
      "name": "python"
    }
  },
  "cells": [
    {
      "cell_type": "markdown",
      "metadata": {
        "id": "view-in-github",
        "colab_type": "text"
      },
      "source": [
        "<a href=\"https://colab.research.google.com/github/Gaddamchandrakanthreddy/melbourne_airbnb_analysis/blob/main/notebooks/melbourne_cleaning.ipynb\" target=\"_parent\"><img src=\"https://colab.research.google.com/assets/colab-badge.svg\" alt=\"Open In Colab\"/></a>"
      ]
    },
    {
      "cell_type": "code",
      "execution_count": 10,
      "metadata": {
        "colab": {
          "base_uri": "https://localhost:8080/"
        },
        "id": "NmNeGA7cn9wz",
        "outputId": "75a30bb6-a832-47d9-b9d4-959e618c3d2a"
      },
      "outputs": [
        {
          "output_type": "stream",
          "name": "stdout",
          "text": [
            "Raw shape: (25946, 18)\n",
            "Clean rows: 18627\n",
            "✅ Saved /content/listings_clean.csv\n"
          ]
        }
      ],
      "source": [
        "# --------------------------------------------------\n",
        "# Melbourne Airbnb Cleaning Notebook\n",
        "# --------------------------------------------------\n",
        "\n",
        "import pandas as pd\n",
        "\n",
        "# 1️⃣  CHANGE ONLY THIS LINE:\n",
        "CSV_URL = \"https://raw.githubusercontent.com/Gaddamchandrakanthreddy/melbourne_airbnb_analysis/main/data/listings.csv\"\n",
        "\n",
        "# Example if your repo is airbnb_analysis on branch main:\n",
        "# CSV_URL = \"https://raw.githubusercontent.com/Gaddamchandrakanthreddy/airbnb_analysis/main/data/listings.csv\"\n",
        "\n",
        "# 2️⃣  LOAD RAW DATA\n",
        "df = pd.read_csv(CSV_URL)\n",
        "print(\"Raw shape:\", df.shape)\n",
        "\n",
        "# 3️⃣  KEEP RELEVANT COLUMNS\n",
        "keep_cols = [\n",
        "    \"id\", \"host_id\", \"neighbourhood\",\n",
        "    \"room_type\", \"price\",\n",
        "    \"number_of_reviews\", \"availability_365\",\n",
        "    \"reviews_per_month\"\n",
        "]\n",
        "clean = df[keep_cols].copy()\n",
        "\n",
        "# 4️⃣  MAKE PRICE NUMERIC (works whether string or number)\n",
        "clean[\"price\"] = pd.to_numeric(\n",
        "    clean[\"price\"].astype(str).str.replace(r\"[\\$,]\", \"\", regex=True),\n",
        "    errors=\"coerce\"\n",
        ")\n",
        "\n",
        "# 5️⃣  DROP ROWS WITHOUT PRICE\n",
        "clean = clean.dropna(subset=[\"price\"])\n",
        "print(\"Clean rows:\", clean.shape[0])\n",
        "\n",
        "# 6️⃣  SAVE CLEAN CSV LOCALLY IN COLAB\n",
        "clean.to_csv(\"/content/listings_clean.csv\", index=False)\n",
        "print(\"✅ Saved /content/listings_clean.csv\")\n"
      ]
    },
    {
      "cell_type": "code",
      "source": [
        "\n",
        "\n"
      ],
      "metadata": {
        "id": "wvws2OssrazQ"
      },
      "execution_count": 5,
      "outputs": []
    },
    {
      "cell_type": "code",
      "source": [],
      "metadata": {
        "id": "s5KFVvMvrf_f"
      },
      "execution_count": null,
      "outputs": []
    }
  ]
}